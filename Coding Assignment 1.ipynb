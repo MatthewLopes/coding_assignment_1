{
 "cells": [
  {
   "cell_type": "code",
   "execution_count": 2,
   "id": "8b538c24",
   "metadata": {},
   "outputs": [],
   "source": [
    "import numpy as np\n",
    "import pandas as pd\n",
    "import matplotlib.pyplot as plt\n",
    "from sklearn.neighbors import KNeighborsClassifier as knn\n",
    "\n",
    "# Set seed\n",
    "np.random.seed(100)"
   ]
  },
  {
   "cell_type": "code",
   "execution_count": 3,
   "id": "1ea1d978",
   "metadata": {},
   "outputs": [],
   "source": [
    "p = 2\n",
    "csize = 10\n",
    "sigma = 1\n",
    "m1 = np.random.normal(size = (csize, p)) * sigma + np.concatenate([np.array([[1, 0]] * csize)])\n",
    "m0 = np.random.normal(size = (csize, p)) * sigma + np.concatenate([np.array([[0, 1]] * csize)])\n",
    "\n",
    "class sim_params :\n",
    "    csize = 10           # number of centers\n",
    "    p = 2                # dimension\n",
    "    s = np.sqrt(1 / 5)   # standard deviation for generating data\n",
    "    n = 100              # training size per class\n",
    "    N = 5000             # test size per class\n",
    "    m0 = m0              # 10 centers for class 0\n",
    "    m1 = m1              # 10 centers for class 1"
   ]
  },
  {
   "cell_type": "code",
   "execution_count": 4,
   "id": "71c94ba7",
   "metadata": {},
   "outputs": [],
   "source": [
    "def generate_sim_data(sim_params):\n",
    "\n",
    "    p = sim_params.p\n",
    "    s = sim_params.s\n",
    "    n = sim_params.n\n",
    "    N = sim_params.N\n",
    "    m1 = sim_params.m1\n",
    "    m0 = sim_params.m0\n",
    "    csize = sim_params.csize\n",
    "    \n",
    "    id1 = np.random.randint(csize, size = n)\n",
    "    id0 = np.random.randint(csize, size = n)\n",
    "\n",
    "    Xtrain = np.random.normal(size = (2 * n, p)) * s \\\n",
    "                + np.concatenate([m1[id1,:], m0[id0,:]])\n",
    "    Ytrain = np.concatenate(([1]*n, [0]*n))\n",
    "\n",
    "    id1 = np.random.randint(csize, size = N)\n",
    "    id0 = np.random.randint(csize, size = N)\n",
    "    Xtest = np.random.normal(size = (2 * N, p)) * s \\\n",
    "                + np.concatenate([m1[id1,:], m0[id0,:]])\n",
    "    Ytest = np.concatenate(([1]*N, [0]*N))\n",
    "\n",
    "    return Xtrain, Ytrain, Xtest, Ytest"
   ]
  },
  {
   "cell_type": "code",
   "execution_count": 5,
   "id": "d258c329",
   "metadata": {},
   "outputs": [],
   "source": [
    "Xtrain, Ytrain, Xtest, Ytest = generate_sim_data(sim_params)"
   ]
  },
  {
   "cell_type": "code",
   "execution_count": 6,
   "id": "372f3d1a",
   "metadata": {},
   "outputs": [
    {
     "data": {
      "image/png": "[encoded data removed]",
      "text/plain": [
       "<Figure size 432x288 with 1 Axes>"
      ]
     },
     "metadata": {
      "needs_background": "light"
     },
     "output_type": "display_data"
    }
   ],
   "source": [
    "n = sim_params.n\n",
    "m0 = sim_params.m0        \n",
    "m1 = sim_params.m1\n",
    "\n",
    "plt.figure()\n",
    "plt.scatter(Xtrain[:n, 0], Xtrain[:n, 1], \n",
    "            color = 'blue', alpha = 0.2, label = 'Class 1')\n",
    "plt.scatter(Xtrain[n:, 0], Xtrain[n:, 1], \n",
    "            color = 'red', alpha = 0.2, label = 'Class 0')\n",
    "plt.scatter(m1[:, 0], m1[:, 1], marker = '+', color = 'blue', s = 120)\n",
    "plt.scatter(m0[:, 0], m0[:, 1], marker = '+', color = 'red', s = 120)\n",
    "plt.legend()\n",
    "plt.show()"
   ]
  },
  {
   "cell_type": "markdown",
   "id": "b8d32931",
   "metadata": {},
   "source": [
    "## Part 1: KNN"
   ]
  },
  {
   "cell_type": "markdown",
   "id": "3023310f",
   "metadata": {},
   "source": [
    "Our KNN Implementation\n",
    "\n",
    "Reference: https://towardsdatascience.com/k-nearest-neighbors-classification-from-scratch-with-numpy-cb222ecfeac1"
   ]
  },
  {
   "cell_type": "code",
   "execution_count": 7,
   "id": "a303b890",
   "metadata": {},
   "outputs": [],
   "source": [
    "def euclidian_distance(a, b):\n",
    "    return np.sqrt(np.sum((a-b)**2, axis=1))"
   ]
  },
  {
   "cell_type": "code",
   "execution_count": 8,
   "id": "5dae111e",
   "metadata": {},
   "outputs": [],
   "source": [
    "def kneighbors(X_test):\n",
    "       \n",
    "        n_neighbors = 1\n",
    "        dist = []\n",
    "        neigh_ind = []\n",
    "        \n",
    "        point_dist = [euclidian_distance(x_test, Xtrain) for x_test in X_test]\n",
    "\n",
    "        for row in point_dist:\n",
    "            enum_neigh = enumerate(row)\n",
    "            sorted_neigh = sorted(enum_neigh, key=lambda x: x[1])[:n_neighbors]\n",
    "    \n",
    "            ind_list = [tup[0] for tup in sorted_neigh]\n",
    "            dist_list = [tup[1] for tup in sorted_neigh]\n",
    "    \n",
    "            dist.append(dist_list)\n",
    "            neigh_ind.append(ind_list)\n",
    "        \n",
    "        return np.array(neigh_ind)"
   ]
  },
  {
   "cell_type": "code",
   "execution_count": 35,
   "id": "937356a7",
   "metadata": {},
   "outputs": [],
   "source": [
    "def predict(X_test):\n",
    "\n",
    "        neighbors = kneighbors(X_test)\n",
    "        Ypred = np.array([np.argmax(np.bincount(Ytrain[neighbor])) for neighbor in neighbors])\n",
    "\n",
    "        return Ypred "
   ]
  },
  {
   "cell_type": "code",
   "execution_count": 36,
   "id": "5dbe2872",
   "metadata": {},
   "outputs": [],
   "source": [
    "def confusion_matrix(Ytrue, Ypred):\n",
    "    return np.bincount(Ytrue + 2*Ypred).reshape(2, 2)"
   ]
  },
  {
   "cell_type": "code",
   "execution_count": 40,
   "id": "08d128e0",
   "metadata": {},
   "outputs": [
    {
     "name": "stdout",
     "output_type": "stream",
     "text": [
      "col_0     0     1\n",
      "row_0            \n",
      "0      3365  1461\n",
      "1      1635  3539\n",
      "\n",
      "0.3096\n",
      "\n",
      "[[3365 1461]\n",
      " [1635 3539]]\n",
      "\n",
      "0.3096\n"
     ]
    }
   ],
   "source": [
    "Ypred = predict(Xtest)\n",
    "\n",
    "print(pd.crosstab(Ypred, Ytest))\n",
    "print()\n",
    "print(np.mean(Ypred != Ytest))\n",
    "print()\n",
    "print(confusion_matrix(Ytest,Ypred))\n",
    "print()\n",
    "print((1635 + 1461) / (2* sim_params.N))"
   ]
  },
  {
   "cell_type": "markdown",
   "id": "63a2fd1f",
   "metadata": {},
   "source": [
    "KNN from sklearn"
   ]
  },
  {
   "cell_type": "code",
   "execution_count": 12,
   "id": "b3543a33",
   "metadata": {},
   "outputs": [
    {
     "name": "stdout",
     "output_type": "stream",
     "text": [
      "[[3365 1461]\n",
      " [1635 3539]]\n",
      "\n",
      "col_0     0     1\n",
      "row_0            \n",
      "0      3365  1461\n",
      "1      1635  3539\n",
      "\n",
      "0.3096\n",
      "\n",
      "0.3096\n"
     ]
    }
   ],
   "source": [
    "## MOVED TO ABOVE FOR COMPARISON ##\n",
    "\n",
    "# def confusion_matrix(Ytrue, Ypred):\n",
    "#     return np.bincount(Ytrue + 2*Ypred).reshape(2, 2)\n",
    "\n",
    "# print('K = 1: ')\n",
    "knn_model = knn(n_neighbors = 1)\n",
    "knn_model.fit(Xtrain, Ytrain)\n",
    "test_pred = knn_model.predict(Xtest)\n",
    "\n",
    "print(confusion_matrix(Ytest, test_pred)) # same as pd.crosstab\n",
    "print()\n",
    "print(pd.crosstab(test_pred, Ytest))\n",
    "print()\n",
    "print(np.mean(test_pred != Ytest))\n",
    "print()\n",
    "print((1635 + 1461) / (2* sim_params.N))"
   ]
  },
  {
   "cell_type": "markdown",
   "id": "f864d53b",
   "metadata": {},
   "source": [
    "## Part 2: cv-KNN"
   ]
  },
  {
   "cell_type": "markdown",
   "id": "db56bab2",
   "metadata": {},
   "source": [
    "In the second part of this assignment, you are asked to\n",
    "\n",
    "1: Implement KNN classification with K chosen by 10-fold cross-validation;\n",
    "\n",
    "2: Explain how you handle the non-uniquness of the optimal K values.\n",
    "\n",
    "Candidate K values are from 1 to 180.\n",
    "For this part, you are allowed to use the function knn from R package class, instead of your own KNN function from Part I."
   ]
  },
  {
   "cell_type": "markdown",
   "id": "0a538163",
   "metadata": {},
   "source": [
    "## Compute CV Errors"
   ]
  },
  {
   "cell_type": "markdown",
   "id": "fc327944",
   "metadata": {},
   "source": [
    "First, divide the training data equally into ten folds,\n",
    "then compute the prediction error on each fold using the KNN classifier trained based on the other nine folds.\n",
    "\n",
    "Specially, in the code below, we set K = 3 and loop over runId from 1 to 10 to compute the CV error. For example, when runId = 3, we find the indices of samples in the 3rd fold (stored in testSetIndex), then train a KNN model without data in testSetIndex, and finally form prediction on data in testSetIndex."
   ]
  },
  {
   "cell_type": "markdown",
   "id": "ec4e6fb4",
   "metadata": {},
   "source": [
    "Sample code for computing CV error for a particular K value."
   ]
  },
  {
   "cell_type": "code",
   "execution_count": 13,
   "id": "7211ddcc",
   "metadata": {},
   "outputs": [
    {
     "data": {
      "text/plain": [
       "0.235"
      ]
     },
     "execution_count": 13,
     "metadata": {},
     "output_type": "execute_result"
    }
   ],
   "source": [
    "num_folds = 10\n",
    "n = len(Ytrain)\n",
    "fold_size = int(n / num_folds)  \n",
    "K = 3\n",
    "err = 0\n",
    "\n",
    "indices = np.arange(n)\n",
    "np.random.shuffle(indices)\n",
    "index_sets = np.array_split(indices, num_folds)\n",
    "\n",
    "traindata = Xtrain\n",
    "\n",
    "for ifold in range(num_folds):\n",
    "    train_indices =  np.delete(index_sets, obj=ifold, axis=0).ravel()\n",
    "    _traindata = traindata[train_indices]\n",
    "    _Ytrain = Ytrain[train_indices]\n",
    "    \n",
    "    test_indices = index_sets[ifold]\n",
    "    _testdata = traindata[test_indices]\n",
    "    _Ytest = Ytrain[test_indices]\n",
    "   \n",
    "    knn_model = knn(K)\n",
    "    knn_model.fit(_traindata, _Ytrain)\n",
    "    predict_Y = knn_model.predict(_testdata)\n",
    "    err += sum(predict_Y != _Ytest)\n",
    "    \n",
    "err /= float(n)\n",
    "err"
   ]
  },
  {
   "cell_type": "markdown",
   "id": "11b660f4",
   "metadata": {},
   "source": [
    "## get_cv_err function \n",
    "\n",
    "Built from the sample code"
   ]
  },
  {
   "cell_type": "code",
   "execution_count": 14,
   "id": "d94bb9f7",
   "metadata": {},
   "outputs": [],
   "source": [
    "def get_cv_err(Ytrain, traindata, K):\n",
    "    num_folds = 10\n",
    "    n = len(Ytrain)\n",
    "    fold_size = int(n / num_folds)  \n",
    "    K = 3\n",
    "    err = 0\n",
    "\n",
    "    indices = np.arange(n)\n",
    "    np.random.shuffle(indices)\n",
    "    index_sets = np.array_split(indices, num_folds)\n",
    "\n",
    "    for ifold in range(num_folds):\n",
    "        train_indices =  np.delete(index_sets, obj=ifold, axis=0).ravel()\n",
    "        _traindata = traindata[train_indices]\n",
    "        _Ytrain = Ytrain[train_indices]\n",
    "\n",
    "        test_indices = index_sets[ifold]\n",
    "        _testdata = traindata[test_indices]\n",
    "        _Ytest = Ytrain[test_indices]\n",
    "\n",
    "        knn_model = knn(K)\n",
    "        knn_model.fit(_traindata, _Ytrain)\n",
    "        predict_Y = knn_model.predict(_testdata)\n",
    "        err += sum(predict_Y != _Ytest)\n",
    "\n",
    "    err /= float(n)\n",
    "    return err"
   ]
  },
  {
   "cell_type": "code",
   "execution_count": 15,
   "id": "26fcbbfe",
   "metadata": {},
   "outputs": [
    {
     "name": "stdout",
     "output_type": "stream",
     "text": [
      "[1 0 0 ... 0 1 0]\n"
     ]
    }
   ],
   "source": [
    "def cvKNN(traindata, y_train, num_folds):\n",
    "    n = len(Ytrain)\n",
    "    fold_size = int(n / num_folds)\n",
    "    kvector = range(1, n - fold_size)\n",
    "    \n",
    "    ########################################\n",
    "    # Your Code\n",
    "    # Compute CV errors and store them in k_cverr\n",
    "    #########################################\n",
    "    k_cverr = []\n",
    "    for k in kvector:\n",
    "        k_cverr.append(get_cv_err(y_train,traindata,k))\n",
    "        \n",
    "    k_cverr = np.asarray(k_cverr)\n",
    "    \n",
    "    tmp = np.column_stack((kvector, k_cverr))\n",
    "    best_k = tmp[tmp[:,1] == np.min(tmp[:,1])][:,0]\n",
    "    return int(np.max(best_k))\n",
    "\n",
    "best_k = cvKNN(Xtrain, Ytrain, num_folds)\n",
    "cvKNN = knn(n_neighbors=best_k)\n",
    "cvKNN.fit(Xtrain, Ytrain)\n",
    "\n",
    "y_pred_cvknn = cvKNN.predict(Xtest)\n",
    "print(y_pred_cvknn)"
   ]
  },
  {
   "cell_type": "code",
   "execution_count": 16,
   "id": "b062a9db",
   "metadata": {},
   "outputs": [
    {
     "name": "stdout",
     "output_type": "stream",
     "text": [
      "[[3558 1075]\n",
      " [1442 3925]]\n",
      "\n",
      "col_0     0     1\n",
      "row_0            \n",
      "0      3558  1075\n",
      "1      1442  3925\n",
      "\n",
      "0.2517\n",
      "\n",
      "0.2517\n"
     ]
    }
   ],
   "source": [
    "print(confusion_matrix(Ytest, y_pred_cvknn)) # same as pd.crosstab\n",
    "print()\n",
    "print(pd.crosstab(y_pred_cvknn, Ytest))\n",
    "print()\n",
    "print(np.mean(y_pred_cvknn != Ytest))\n",
    "print()\n",
    "print((1442 + 1075) / (2* sim_params.N))"
   ]
  },
  {
   "cell_type": "markdown",
   "id": "b9192d67",
   "metadata": {},
   "source": [
    "## Part III: Bayes Rule\n",
    "In the third part of this assignment, you are asked to Implement the Bayes Rule.\n",
    "\n",
    "The Bayes rule for binary classification (under the zero-one loss), as derived in class, is: predict Y to be 1, if\n",
    "$$ P(Y=1∣X=x)≥P(Y=0∣X=x), $$\n",
    "or equivalently\n",
    "$$\\frac{P(Y=1∣X=x)}{P(Y=0∣X=x)}≥1. $$\n",
    "\n",
    "Following the data generation process, we have\n",
    "\n",
    "$$ \\frac{P(Y=1∣X=x)}{P(Y=0∣X=x)}=\\frac{P(Y=1)⋅P(X=x∣Y=1)}{P(Y=0)⋅P(X=x∣Y=0)}$$\n",
    "\n",
    "$$=\\frac{(1/2)⋅10^{−1}\\sum\\limits_{l=1}^{10}(2πs^2)^{−1}exp(−∥x−m_{1l}∥^2/(2s^2))}{(1/2)⋅10^{−1}\\sum\\limits_{l=1}^{10}(2πs^2)^{−1}exp(−∥x−m_{0l}∥^2/(2s^2))}$$\n",
    "\n",
    "$$ =\\frac{\\sum\\limits_{l=1}^{10}exp(−∥x−m_{1l}∥^2/(2s^2))}{∑10l=1exp(−∥x−m_{0l}∥^2/(2s^2))} $$\n",
    "You can use the following code to compute the numerator and the denominator of this ratio."
   ]
  },
  {
   "cell_type": "code",
   "execution_count": 17,
   "id": "76736f87",
   "metadata": {},
   "outputs": [
    {
     "name": "stdout",
     "output_type": "stream",
     "text": [
      "[[-0.74976547  0.3426804 ]\n",
      " [ 2.1530358  -0.25243604]\n",
      " [ 1.98132079  0.51421884]\n",
      " [ 1.22117967 -1.07004333]\n",
      " [ 0.81050417  0.25500144]\n",
      " [ 0.54197301  0.43516349]\n",
      " [ 0.41640495  0.81684707]\n",
      " [ 1.67272081 -0.10441114]\n",
      " [ 0.46871962  1.02973269]\n",
      " [ 0.56186438 -1.11831825]]\n",
      "\n",
      "[[ 1.61898166  2.54160517]\n",
      " [-0.25187914  0.15756426]\n",
      " [ 0.18451869  1.9370822 ]\n",
      " [ 0.73100034  2.36155613]\n",
      " [-0.32623806  1.05567601]\n",
      " [ 0.22239961 -0.443217  ]\n",
      " [-0.75635231  1.81645401]\n",
      " [ 0.75044476  0.54405307]\n",
      " [ 1.18962227 -0.69061683]\n",
      " [-1.35639905 -0.23243451]]\n",
      "\n",
      "0.4472135954999579\n"
     ]
    }
   ],
   "source": [
    "s = sim_params.s\n",
    "print(m1)\n",
    "print()\n",
    "print(m0)\n",
    "print()\n",
    "print(s)"
   ]
  },
  {
   "cell_type": "code",
   "execution_count": 18,
   "id": "868f3dc7",
   "metadata": {},
   "outputs": [
    {
     "name": "stdout",
     "output_type": "stream",
     "text": [
      "[4.38881427e+00 1.57220629e+00 1.38242758e-01 ... 3.31632443e-01\n",
      " 1.73681655e+00 2.27337445e-03]\n",
      "[1 1 0 ... 0 1 0]\n"
     ]
    }
   ],
   "source": [
    "ratios = []\n",
    "for x in Xtest:\n",
    "    d1 = sum(np.exp(- ((m1[i, 0] - x[0]) ** 2 + (m1[i, 1] - x[1]) ** 2) / (2 * s ** 2)) for i in range(len(m1)))\n",
    "    d0 = sum(np.exp(- ((m0[i, 0] - x[0]) ** 2 + (m0[i, 1] - x[1]) ** 2) / (2 * s ** 2)) for i in range(len(m0)))\n",
    "    ratios.append(d1/d0)\n",
    "ratios = np.asarray(ratios)\n",
    "print(ratios)\n",
    "bayes_y_pred = (ratios >= 1).astype(int)\n",
    "print(bayes_y_pred)"
   ]
  },
  {
   "cell_type": "code",
   "execution_count": 19,
   "id": "3f492332",
   "metadata": {},
   "outputs": [
    {
     "name": "stdout",
     "output_type": "stream",
     "text": [
      "col_0     0     1\n",
      "row_0            \n",
      "0      3489   859\n",
      "1      1511  4141\n",
      "\n",
      "0.237\n",
      "\n"
     ]
    }
   ],
   "source": [
    "print(pd.crosstab(bayes_y_pred, Ytest))\n",
    "print()\n",
    "print(np.mean(bayes_y_pred != Ytest))\n",
    "print()"
   ]
  },
  {
   "cell_type": "markdown",
   "id": "9eec58e5",
   "metadata": {},
   "source": [
    "## Part IV: Simulation Study\n",
    "\n",
    "In the last part of this assignment, you are asked to use the same set of centers m1 and m0, and repeatedly call generate_sim_data to generate 50 data sets. For each data set, calculate the test errors (the averaged 0/1 loss on the test data set) for each the following three procedures:\n",
    "\n",
    "KNN classification with K = 1,\n",
    "KNN classification with K chosen by 10-fold cross-validation, and\n",
    "the Bayes Rule.\n",
    "Present the test errors graphically, e.g., using boxplot or stripchart. Also report the mean and standard error for the chosen K values.\n",
    "\n",
    "Note:\n",
    "\n",
    "For KNN, you can use the function knn from R package class, instead of your own KNN function from Part II.\n",
    "\n",
    "“report the mean and standard error for the chosen K values” – For each of the 50 data sets, you’ll have a K value chosen via 10-fold CV. Report the mean and standard error of those 50 values.\n",
    "\n"
   ]
  },
  {
   "cell_type": "code",
   "execution_count": 20,
   "id": "629fed40",
   "metadata": {},
   "outputs": [],
   "source": [
    "def cvKNN2(traindata, y_train, num_folds):\n",
    "    n = len(Ytrain)\n",
    "    fold_size = int(n / num_folds)\n",
    "    kvector = range(1, n - fold_size)\n",
    "    \n",
    "    ########################################\n",
    "    # Your Code\n",
    "    # Compute CV errors and store them in k_cverr\n",
    "    #########################################\n",
    "    k_cverr = []\n",
    "    for k in kvector:\n",
    "        k_cverr.append(get_cv_err(y_train,traindata,k))\n",
    "        \n",
    "    k_cverr = np.asarray(k_cverr)\n",
    "    \n",
    "    tmp = np.column_stack((kvector, k_cverr))\n",
    "    best_k = tmp[tmp[:,1] == np.min(tmp[:,1])][:,0]\n",
    "    return int(np.max(best_k))"
   ]
  },
  {
   "cell_type": "code",
   "execution_count": 21,
   "id": "454560e2",
   "metadata": {},
   "outputs": [],
   "source": [
    "def sim_one_knn(Xtrain,Ytrain,Xtest,Ytest):\n",
    "    knn_model = knn(n_neighbors = 1)\n",
    "    knn_model.fit(Xtrain, Ytrain)\n",
    "    test_pred = knn_model.predict(Xtest)\n",
    "    \n",
    "    return np.mean(test_pred != Ytest)"
   ]
  },
  {
   "cell_type": "code",
   "execution_count": 22,
   "id": "e62a1469",
   "metadata": {},
   "outputs": [],
   "source": [
    "def sim_cv_knn(Xtrain, Ytrain, Xtest, Ytest, num_folds):\n",
    "    best_k = cvKNN2(traindata=Xtrain, y_train=Ytrain, num_folds=num_folds)\n",
    "    cvKNN = knn(n_neighbors=best_k)\n",
    "    cvKNN.fit(Xtrain, Ytrain)\n",
    "    y_pred_cvknn = cvKNN.predict(Xtest)\n",
    "    \n",
    "    return np.mean(y_pred_cvknn != Ytest)"
   ]
  },
  {
   "cell_type": "code",
   "execution_count": 23,
   "id": "6f9ea368",
   "metadata": {},
   "outputs": [],
   "source": [
    "def sim_bayes(Xtrain, Ytrain, Xtest, Ytest):\n",
    "    ratios = []\n",
    "    for x in Xtest:\n",
    "        d1 = sum(np.exp(- ((m1[i, 0] - x[0]) ** 2 + (m1[i, 1] - x[1]) ** 2) / (2 * s ** 2)) for i in range(len(m1)))\n",
    "        d0 = sum(np.exp(- ((m0[i, 0] - x[0]) ** 2 + (m0[i, 1] - x[1]) ** 2) / (2 * s ** 2)) for i in range(len(m0)))\n",
    "    ratios.append(d1/d0)\n",
    "    ratios = np.asarray(ratios)\n",
    "    bayes_y_pred = (ratios >= 1).astype(int)\n",
    "    \n",
    "    return np.mean(bayes_y_pred != Ytest)"
   ]
  },
  {
   "cell_type": "code",
   "execution_count": 24,
   "id": "dbcf166c",
   "metadata": {},
   "outputs": [],
   "source": [
    "datasets = []\n",
    "one_knn_errs = []\n",
    "best_k_errs = []\n",
    "bayes_errs =[]\n",
    "for i in range(50):\n",
    "    X_train, Y_train, X_test, Y_test = generate_sim_data(sim_params)\n",
    "    one_knn_errs.append(sim_one_knn(X_train, Y_train, X_test, Y_test))\n",
    "    best_k_errs.append(sim_cv_knn(X_train, Y_train, X_test, Y_test,10))\n",
    "    bayes_errs.append(sim_bayes(X_train, Y_train, X_test, Y_test))\n",
    "    datasets.append((Xtrain, Ytrain, Xtest, Ytest))"
   ]
  },
  {
   "cell_type": "markdown",
   "id": "c66b87b7",
   "metadata": {},
   "source": [
    "## We need the Mean and Standard error for the 50 values"
   ]
  },
  {
   "cell_type": "code",
   "execution_count": 56,
   "id": "df932f5c",
   "metadata": {},
   "outputs": [
    {
     "name": "stdout",
     "output_type": "stream",
     "text": [
      "0.30619999999999997\n",
      "\n",
      "0.001708363580286404\n",
      "\n",
      "0.303668\n",
      "\n",
      "0.004802477625865505\n",
      "\n",
      "0.5\n",
      "\n",
      "0.0\n"
     ]
    }
   ],
   "source": [
    "mean_one_knn_errs = np.mean(one_knn_errs)\n",
    "std_err_one_knn_errs = np.std(one_knn_errs, ddof=1) / np.sqrt(np.size(one_knn_errs))\n",
    "\n",
    "mean_best_k_errs = np.mean(best_k_errs)\n",
    "std_err_best_k_errs = np.std(best_k_errs, ddof=1) / np.sqrt(np.size(best_k_errs))\n",
    "\n",
    "mean_bayes_errs = np.mean(bayes_errs)\n",
    "std_err_bayes_errs = np.std(bayes_errs, ddof=1) / np.sqrt(np.size(bayes_errs))\n",
    "\n",
    "print(mean_one_knn_errs)\n",
    "print()\n",
    "print(std_err_one_knn_errs)\n",
    "print()\n",
    "print(mean_best_k_errs)\n",
    "print()\n",
    "print(std_err_best_k_errs)\n",
    "print()\n",
    "print(mean_bayes_errs)\n",
    "print()\n",
    "print(std_err_bayes_errs)\n"
   ]
  },
  {
   "cell_type": "code",
   "execution_count": 55,
   "id": "b71e4ded",
   "metadata": {},
   "outputs": [
    {
     "ename": "ValueError",
     "evalue": "x and y must have same first dimension, but have shapes (49,) and (50,)",
     "output_type": "error",
     "traceback": [
      "\u001b[1;31m---------------------------------------------------------------------------\u001b[0m",
      "\u001b[1;31mValueError\u001b[0m                                Traceback (most recent call last)",
      "Input \u001b[1;32mIn [55]\u001b[0m, in \u001b[0;36m<cell line: 1>\u001b[1;34m()\u001b[0m\n\u001b[1;32m----> 1\u001b[0m \u001b[43mplt\u001b[49m\u001b[38;5;241;43m.\u001b[39;49m\u001b[43mplot\u001b[49m\u001b[43m(\u001b[49m\u001b[38;5;28;43mrange\u001b[39;49m\u001b[43m(\u001b[49m\u001b[38;5;241;43m1\u001b[39;49m\u001b[43m,\u001b[49m\u001b[38;5;241;43m50\u001b[39;49m\u001b[43m)\u001b[49m\u001b[43m,\u001b[49m\u001b[43mone_knn_errs\u001b[49m\u001b[43m,\u001b[49m\u001b[38;5;124;43m'\u001b[39;49m\u001b[38;5;124;43mg\u001b[39;49m\u001b[38;5;124;43m'\u001b[39;49m\u001b[43m)\u001b[49m\n\u001b[0;32m      2\u001b[0m plt\u001b[38;5;241m.\u001b[39mfill_between(\u001b[38;5;28mrange\u001b[39m(\u001b[38;5;241m1\u001b[39m,\u001b[38;5;241m50\u001b[39m),\u001b[38;5;28mrange\u001b[39m(\u001b[38;5;241m1\u001b[39m,\u001b[38;5;241m5\u001b[39m))\n\u001b[0;32m      3\u001b[0m plt\u001b[38;5;241m.\u001b[39mylabel(\u001b[38;5;124m'\u001b[39m\u001b[38;5;124mAccuracy \u001b[39m\u001b[38;5;124m'\u001b[39m)\n",
      "File \u001b[1;32m~\\anaconda3\\lib\\site-packages\\matplotlib\\pyplot.py:2757\u001b[0m, in \u001b[0;36mplot\u001b[1;34m(scalex, scaley, data, *args, **kwargs)\u001b[0m\n\u001b[0;32m   2755\u001b[0m \u001b[38;5;129m@_copy_docstring_and_deprecators\u001b[39m(Axes\u001b[38;5;241m.\u001b[39mplot)\n\u001b[0;32m   2756\u001b[0m \u001b[38;5;28;01mdef\u001b[39;00m \u001b[38;5;21mplot\u001b[39m(\u001b[38;5;241m*\u001b[39margs, scalex\u001b[38;5;241m=\u001b[39m\u001b[38;5;28;01mTrue\u001b[39;00m, scaley\u001b[38;5;241m=\u001b[39m\u001b[38;5;28;01mTrue\u001b[39;00m, data\u001b[38;5;241m=\u001b[39m\u001b[38;5;28;01mNone\u001b[39;00m, \u001b[38;5;241m*\u001b[39m\u001b[38;5;241m*\u001b[39mkwargs):\n\u001b[1;32m-> 2757\u001b[0m     \u001b[38;5;28;01mreturn\u001b[39;00m gca()\u001b[38;5;241m.\u001b[39mplot(\n\u001b[0;32m   2758\u001b[0m         \u001b[38;5;241m*\u001b[39margs, scalex\u001b[38;5;241m=\u001b[39mscalex, scaley\u001b[38;5;241m=\u001b[39mscaley,\n\u001b[0;32m   2759\u001b[0m         \u001b[38;5;241m*\u001b[39m\u001b[38;5;241m*\u001b[39m({\u001b[38;5;124m\"\u001b[39m\u001b[38;5;124mdata\u001b[39m\u001b[38;5;124m\"\u001b[39m: data} \u001b[38;5;28;01mif\u001b[39;00m data \u001b[38;5;129;01mis\u001b[39;00m \u001b[38;5;129;01mnot\u001b[39;00m \u001b[38;5;28;01mNone\u001b[39;00m \u001b[38;5;28;01melse\u001b[39;00m {}), \u001b[38;5;241m*\u001b[39m\u001b[38;5;241m*\u001b[39mkwargs)\n",
      "File \u001b[1;32m~\\anaconda3\\lib\\site-packages\\matplotlib\\axes\\_axes.py:1632\u001b[0m, in \u001b[0;36mAxes.plot\u001b[1;34m(self, scalex, scaley, data, *args, **kwargs)\u001b[0m\n\u001b[0;32m   1390\u001b[0m \u001b[38;5;124;03m\"\"\"\u001b[39;00m\n\u001b[0;32m   1391\u001b[0m \u001b[38;5;124;03mPlot y versus x as lines and/or markers.\u001b[39;00m\n\u001b[0;32m   1392\u001b[0m \n\u001b[1;32m   (...)\u001b[0m\n\u001b[0;32m   1629\u001b[0m \u001b[38;5;124;03m(``'green'``) or hex strings (``'#008000'``).\u001b[39;00m\n\u001b[0;32m   1630\u001b[0m \u001b[38;5;124;03m\"\"\"\u001b[39;00m\n\u001b[0;32m   1631\u001b[0m kwargs \u001b[38;5;241m=\u001b[39m cbook\u001b[38;5;241m.\u001b[39mnormalize_kwargs(kwargs, mlines\u001b[38;5;241m.\u001b[39mLine2D)\n\u001b[1;32m-> 1632\u001b[0m lines \u001b[38;5;241m=\u001b[39m [\u001b[38;5;241m*\u001b[39m\u001b[38;5;28mself\u001b[39m\u001b[38;5;241m.\u001b[39m_get_lines(\u001b[38;5;241m*\u001b[39margs, data\u001b[38;5;241m=\u001b[39mdata, \u001b[38;5;241m*\u001b[39m\u001b[38;5;241m*\u001b[39mkwargs)]\n\u001b[0;32m   1633\u001b[0m \u001b[38;5;28;01mfor\u001b[39;00m line \u001b[38;5;129;01min\u001b[39;00m lines:\n\u001b[0;32m   1634\u001b[0m     \u001b[38;5;28mself\u001b[39m\u001b[38;5;241m.\u001b[39madd_line(line)\n",
      "File \u001b[1;32m~\\anaconda3\\lib\\site-packages\\matplotlib\\axes\\_base.py:312\u001b[0m, in \u001b[0;36m_process_plot_var_args.__call__\u001b[1;34m(self, data, *args, **kwargs)\u001b[0m\n\u001b[0;32m    310\u001b[0m     this \u001b[38;5;241m+\u001b[39m\u001b[38;5;241m=\u001b[39m args[\u001b[38;5;241m0\u001b[39m],\n\u001b[0;32m    311\u001b[0m     args \u001b[38;5;241m=\u001b[39m args[\u001b[38;5;241m1\u001b[39m:]\n\u001b[1;32m--> 312\u001b[0m \u001b[38;5;28;01myield from\u001b[39;00m \u001b[38;5;28;43mself\u001b[39;49m\u001b[38;5;241;43m.\u001b[39;49m\u001b[43m_plot_args\u001b[49m\u001b[43m(\u001b[49m\u001b[43mthis\u001b[49m\u001b[43m,\u001b[49m\u001b[43m \u001b[49m\u001b[43mkwargs\u001b[49m\u001b[43m)\u001b[49m\n",
      "File \u001b[1;32m~\\anaconda3\\lib\\site-packages\\matplotlib\\axes\\_base.py:498\u001b[0m, in \u001b[0;36m_process_plot_var_args._plot_args\u001b[1;34m(self, tup, kwargs, return_kwargs)\u001b[0m\n\u001b[0;32m    495\u001b[0m     \u001b[38;5;28mself\u001b[39m\u001b[38;5;241m.\u001b[39maxes\u001b[38;5;241m.\u001b[39myaxis\u001b[38;5;241m.\u001b[39mupdate_units(y)\n\u001b[0;32m    497\u001b[0m \u001b[38;5;28;01mif\u001b[39;00m x\u001b[38;5;241m.\u001b[39mshape[\u001b[38;5;241m0\u001b[39m] \u001b[38;5;241m!=\u001b[39m y\u001b[38;5;241m.\u001b[39mshape[\u001b[38;5;241m0\u001b[39m]:\n\u001b[1;32m--> 498\u001b[0m     \u001b[38;5;28;01mraise\u001b[39;00m \u001b[38;5;167;01mValueError\u001b[39;00m(\u001b[38;5;124mf\u001b[39m\u001b[38;5;124m\"\u001b[39m\u001b[38;5;124mx and y must have same first dimension, but \u001b[39m\u001b[38;5;124m\"\u001b[39m\n\u001b[0;32m    499\u001b[0m                      \u001b[38;5;124mf\u001b[39m\u001b[38;5;124m\"\u001b[39m\u001b[38;5;124mhave shapes \u001b[39m\u001b[38;5;132;01m{\u001b[39;00mx\u001b[38;5;241m.\u001b[39mshape\u001b[38;5;132;01m}\u001b[39;00m\u001b[38;5;124m and \u001b[39m\u001b[38;5;132;01m{\u001b[39;00my\u001b[38;5;241m.\u001b[39mshape\u001b[38;5;132;01m}\u001b[39;00m\u001b[38;5;124m\"\u001b[39m)\n\u001b[0;32m    500\u001b[0m \u001b[38;5;28;01mif\u001b[39;00m x\u001b[38;5;241m.\u001b[39mndim \u001b[38;5;241m>\u001b[39m \u001b[38;5;241m2\u001b[39m \u001b[38;5;129;01mor\u001b[39;00m y\u001b[38;5;241m.\u001b[39mndim \u001b[38;5;241m>\u001b[39m \u001b[38;5;241m2\u001b[39m:\n\u001b[0;32m    501\u001b[0m     \u001b[38;5;28;01mraise\u001b[39;00m \u001b[38;5;167;01mValueError\u001b[39;00m(\u001b[38;5;124mf\u001b[39m\u001b[38;5;124m\"\u001b[39m\u001b[38;5;124mx and y can be no greater than 2D, but have \u001b[39m\u001b[38;5;124m\"\u001b[39m\n\u001b[0;32m    502\u001b[0m                      \u001b[38;5;124mf\u001b[39m\u001b[38;5;124m\"\u001b[39m\u001b[38;5;124mshapes \u001b[39m\u001b[38;5;132;01m{\u001b[39;00mx\u001b[38;5;241m.\u001b[39mshape\u001b[38;5;132;01m}\u001b[39;00m\u001b[38;5;124m and \u001b[39m\u001b[38;5;132;01m{\u001b[39;00my\u001b[38;5;241m.\u001b[39mshape\u001b[38;5;132;01m}\u001b[39;00m\u001b[38;5;124m\"\u001b[39m)\n",
      "\u001b[1;31mValueError\u001b[0m: x and y must have same first dimension, but have shapes (49,) and (50,)"
     ]
    },
    {
     "data": {
      "image/png": "[encoded data removed]",
      "text/plain": [
       "<Figure size 432x288 with 1 Axes>"
      ]
     },
     "metadata": {
      "needs_background": "light"
     },
     "output_type": "display_data"
    }
   ],
   "source": [
    "plt.plot(range(1,50),one_knn_errs,'g')\n",
    "plt.fill_between(range(1,50),range(1,5))\n",
    "plt.ylabel('Accuracy ')\n",
    "plt.xlabel('Number of Neighbors (k)')\n",
    "plt.tight_layout()\n",
    "plt.show()"
   ]
  },
  {
   "cell_type": "code",
   "execution_count": null,
   "id": "63e1e889",
   "metadata": {},
   "outputs": [],
   "source": []
  }
 ],
 "metadata": {
  "kernelspec": {
   "display_name": "Python 3 (ipykernel)",
   "language": "python",
   "name": "python3"
  },
  "language_info": {
   "codemirror_mode": {
    "name": "ipython",
    "version": 3
   },
   "file_extension": ".py",
   "mimetype": "text/x-python",
   "name": "python",
   "nbconvert_exporter": "python",
   "pygments_lexer": "ipython3",
   "version": "3.9.12"
  }
 },
 "nbformat": 4,
 "nbformat_minor": 5
}
